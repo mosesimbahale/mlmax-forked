{
 "cells": [
  {
   "cell_type": "markdown",
   "metadata": {},
   "source": [
    "## An example notebook\n",
    "\n",
    "IPython 8.0.1, 7.31.1 and 5.11 onwards disables the `ipython_config.py` trick to prevent potential\n",
    "Execution with Unnecessary Privileges. Please see their release notes and security advisory\n",
    "[here](https://ipython.readthedocs.io/en/stable/whatsnew/version8.html#ipython-8-0-1-cve-2022-21699).\n",
    "\n",
    "Hence, you need to install this repo for the cell below to to import the `mlmax` module:\n",
    "\n",
    "```bash\n",
    "# Assume GITROOT is the git repo of the mlmax project\n",
    "cd GITROOT\n",
    "\n",
    "# Editable install: any change to GITROOT/src/mlmax/* are reflected immediately\n",
    "pip install -e .\n",
    "\n",
    "# Or, normal install; must be repeated to reflect subsequent changes to GITROOT/src/mlmax/*\n",
    "pip install .\n",
    "```"
   ]
  },
  {
   "cell_type": "code",
   "execution_count": 1,
   "metadata": {},
   "outputs": [],
   "source": [
    "from mlmax.preprocessing import read_data"
   ]
  },
  {
   "cell_type": "code",
   "execution_count": 2,
   "metadata": {},
   "outputs": [
    {
     "name": "stdout",
     "output_type": "stream",
     "text": [
      "Reading input data from s3://sagemaker-sample-data-us-east-1/processing/census/census-income.csv\n",
      "Data after cleaning: (68285, 9), 11401 positive examples, 56884 negative examples\n"
     ]
    }
   ],
   "source": [
    "d = read_data(\"s3://sagemaker-sample-data-us-east-1/processing/census/census-income.csv\")"
   ]
  },
  {
   "cell_type": "code",
   "execution_count": 3,
   "metadata": {},
   "outputs": [
    {
     "data": {
      "text/html": [
       "<div>\n",
       "<style scoped>\n",
       "    .dataframe tbody tr th:only-of-type {\n",
       "        vertical-align: middle;\n",
       "    }\n",
       "\n",
       "    .dataframe tbody tr th {\n",
       "        vertical-align: top;\n",
       "    }\n",
       "\n",
       "    .dataframe thead th {\n",
       "        text-align: right;\n",
       "    }\n",
       "</style>\n",
       "<table border=\"1\" class=\"dataframe\">\n",
       "  <thead>\n",
       "    <tr style=\"text-align: right;\">\n",
       "      <th></th>\n",
       "      <th>age</th>\n",
       "      <th>education</th>\n",
       "      <th>major industry code</th>\n",
       "      <th>class of worker</th>\n",
       "      <th>num persons worked for employer</th>\n",
       "      <th>capital gains</th>\n",
       "      <th>capital losses</th>\n",
       "      <th>dividends from stocks</th>\n",
       "      <th>income</th>\n",
       "    </tr>\n",
       "  </thead>\n",
       "  <tbody>\n",
       "    <tr>\n",
       "      <th>0</th>\n",
       "      <td>73</td>\n",
       "      <td>High school graduate</td>\n",
       "      <td>Not in universe or children</td>\n",
       "      <td>Not in universe</td>\n",
       "      <td>0</td>\n",
       "      <td>0</td>\n",
       "      <td>0</td>\n",
       "      <td>0</td>\n",
       "      <td>0</td>\n",
       "    </tr>\n",
       "    <tr>\n",
       "      <th>1</th>\n",
       "      <td>58</td>\n",
       "      <td>Some college but no degree</td>\n",
       "      <td>Construction</td>\n",
       "      <td>Self-employed-not incorporated</td>\n",
       "      <td>1</td>\n",
       "      <td>0</td>\n",
       "      <td>0</td>\n",
       "      <td>0</td>\n",
       "      <td>0</td>\n",
       "    </tr>\n",
       "    <tr>\n",
       "      <th>2</th>\n",
       "      <td>18</td>\n",
       "      <td>10th grade</td>\n",
       "      <td>Not in universe or children</td>\n",
       "      <td>Not in universe</td>\n",
       "      <td>0</td>\n",
       "      <td>0</td>\n",
       "      <td>0</td>\n",
       "      <td>0</td>\n",
       "      <td>0</td>\n",
       "    </tr>\n",
       "    <tr>\n",
       "      <th>3</th>\n",
       "      <td>9</td>\n",
       "      <td>Children</td>\n",
       "      <td>Not in universe or children</td>\n",
       "      <td>Not in universe</td>\n",
       "      <td>0</td>\n",
       "      <td>0</td>\n",
       "      <td>0</td>\n",
       "      <td>0</td>\n",
       "      <td>0</td>\n",
       "    </tr>\n",
       "    <tr>\n",
       "      <th>4</th>\n",
       "      <td>10</td>\n",
       "      <td>Children</td>\n",
       "      <td>Not in universe or children</td>\n",
       "      <td>Not in universe</td>\n",
       "      <td>0</td>\n",
       "      <td>0</td>\n",
       "      <td>0</td>\n",
       "      <td>0</td>\n",
       "      <td>0</td>\n",
       "    </tr>\n",
       "  </tbody>\n",
       "</table>\n",
       "</div>"
      ],
      "text/plain": [
       "   age                    education           major industry code  \\\n",
       "0   73         High school graduate   Not in universe or children   \n",
       "1   58   Some college but no degree                  Construction   \n",
       "2   18                   10th grade   Not in universe or children   \n",
       "3    9                     Children   Not in universe or children   \n",
       "4   10                     Children   Not in universe or children   \n",
       "\n",
       "                   class of worker  num persons worked for employer  \\\n",
       "0                  Not in universe                                0   \n",
       "1   Self-employed-not incorporated                                1   \n",
       "2                  Not in universe                                0   \n",
       "3                  Not in universe                                0   \n",
       "4                  Not in universe                                0   \n",
       "\n",
       "   capital gains  capital losses  dividends from stocks  income  \n",
       "0              0               0                      0       0  \n",
       "1              0               0                      0       0  \n",
       "2              0               0                      0       0  \n",
       "3              0               0                      0       0  \n",
       "4              0               0                      0       0  "
      ]
     },
     "execution_count": 3,
     "metadata": {},
     "output_type": "execute_result"
    }
   ],
   "source": [
    "d.head()"
   ]
  }
 ],
 "metadata": {
  "kernelspec": {
   "display_name": "Python 3",
   "language": "python",
   "name": "python3"
  },
  "language_info": {
   "codemirror_mode": {
    "name": "ipython",
    "version": 3
   },
   "file_extension": ".py",
   "mimetype": "text/x-python",
   "name": "python",
   "nbconvert_exporter": "python",
   "pygments_lexer": "ipython3",
   "version": "3.8.5"
  }
 },
 "nbformat": 4,
 "nbformat_minor": 4
}
